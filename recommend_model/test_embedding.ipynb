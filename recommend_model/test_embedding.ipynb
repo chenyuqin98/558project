{
 "cells": [
  {
   "cell_type": "code",
   "execution_count": 2,
   "metadata": {},
   "outputs": [],
   "source": [
    "import numpy as np\n",
    "# import pandas as pd\n",
    "# import ampligraph\n",
    "\n",
    "from ampligraph.datasets import load_from_csv\n",
    "\n",
    "\n",
    "X = load_from_csv('../src/', 'recommend_dataset.csv', sep=',')\n",
    "# X[:5]\n",
    "X_desk = X[:48000]\n",
    "X_card = X[48000:]\n",
    "\n",
    "from ampligraph.evaluation import train_test_split_no_unseen \n",
    "data = {}\n",
    "num_test = int(len(X_desk) * (20 / 100))\n",
    "data['train'], data['test'] = train_test_split_no_unseen(X_desk, test_size=num_test, seed=0, allow_duplication=False) \n",
    "data['train'] = np.concatenate((data['train'], X_card), axis=0)"
   ]
  },
  {
   "cell_type": "code",
   "execution_count": 3,
   "metadata": {},
   "outputs": [
    {
     "data": {
      "text/plain": [
       "array([['Odd Questline Warrior – #202 Legend (tayloreve) – Wild S93',\n",
       "        'has_card', 'Reckless Flurry'],\n",
       "       ['Holy Paladin – Nozdormu Day Quest (July 15, 2022)', 'has_card',\n",
       "        'Knight of Anointment'],\n",
       "       ['Hero Power Mage – #300 Legend (Clark) – Castle Nathria',\n",
       "        'has_card', 'Fire Sale'],\n",
       "       ['Kazakusan Druid – #12 Legend (Scorro) – Onyxia’s Lair',\n",
       "        'has_card', 'Lunar Eclipse'],\n",
       "       ['Skeleton Mage – #6 Legend (Meati) – Castle Nathria', 'has_card',\n",
       "        'Flurry (Rank 1)']], dtype=object)"
      ]
     },
     "execution_count": 3,
     "metadata": {},
     "output_type": "execute_result"
    }
   ],
   "source": [
    "data['test'][:5]"
   ]
  },
  {
   "cell_type": "code",
   "execution_count": 13,
   "metadata": {},
   "outputs": [
    {
     "name": "stderr",
     "output_type": "stream",
     "text": [
      "Average TransE Loss:   0.112030: 100%|██████████| 200/200 [09:58<00:00,  2.99s/epoch]\n"
     ]
    }
   ],
   "source": [
    "from ampligraph.latent_features import TransE, DistMult, ComplEx\n",
    "\n",
    "modelTransE = TransE(batches_count=100, \n",
    "                seed=0, \n",
    "                epochs=500, \n",
    "                k=150, \n",
    "                eta=5,\n",
    "                optimizer='adam', \n",
    "                optimizer_params={'lr':1e-3},\n",
    "                loss='multiclass_nll', \n",
    "                regularizer='LP', \n",
    "                regularizer_params={'p':3, 'lambda':1e-5}, \n",
    "                verbose=True)\n",
    "\n",
    "positives_filter = X\n",
    "modelTransE.fit(data['train'], early_stopping = False)"
   ]
  },
  {
   "cell_type": "code",
   "execution_count": 14,
   "metadata": {},
   "outputs": [
    {
     "name": "stdout",
     "output_type": "stream",
     "text": [
      "WARNING - DeprecationWarning: use_default_protocol will be removed in future. Please use corrupt_side argument instead.\n"
     ]
    },
    {
     "name": "stderr",
     "output_type": "stream",
     "text": [
      "100%|██████████| 9600/9600 [03:09<00:00, 50.57it/s]"
     ]
    },
    {
     "name": "stdout",
     "output_type": "stream",
     "text": [
      "MRR: 0.09\n"
     ]
    },
    {
     "name": "stderr",
     "output_type": "stream",
     "text": [
      "\n"
     ]
    }
   ],
   "source": [
    "from ampligraph.evaluation import mr_score, mrr_score, hits_at_n_score\n",
    "from ampligraph.evaluation import evaluate_performance\n",
    "\n",
    "ranks = evaluate_performance(data['test'], \n",
    "                            model=modelTransE, \n",
    "                            filter_triples=positives_filter,   # Corruption strategy filter defined above \n",
    "                            use_default_protocol=True, # corrupt subj and obj separately while evaluating\n",
    "                            verbose=True)\n",
    "mrr = mrr_score(ranks)\n",
    "print(\"MRR: %.2f\" % (mrr))"
   ]
  },
  {
   "cell_type": "code",
   "execution_count": 15,
   "metadata": {},
   "outputs": [
    {
     "data": {
      "text/plain": [
       "(array([['XL Secret Thief Rogue – #9 Legend (syoutotolo) – Knights of Hallow’s End',\n",
       "         'has_card', 'Gone Fishin’'],\n",
       "        ['XL Secret Thief Rogue – #9 Legend (syoutotolo) – Knights of Hallow’s End',\n",
       "         'has_card', 'Sira’kess Cultist'],\n",
       "        ['XL Secret Thief Rogue – #9 Legend (syoutotolo) – Knights of Hallow’s End',\n",
       "         'has_card', 'Dead Man’s Hand'],\n",
       "        ['XL Secret Thief Rogue – #9 Legend (syoutotolo) – Knights of Hallow’s End',\n",
       "         'has_card', 'Swiftscale Trickster'],\n",
       "        ['XL Secret Thief Rogue – #9 Legend (syoutotolo) – Knights of Hallow’s End',\n",
       "         'has_card', 'Crabatoa']], dtype='<U92'),\n",
       " array([-18.665962, -21.576368, -21.976175, -22.223473, -22.619543],\n",
       "       dtype=float32))"
      ]
     },
     "execution_count": 15,
     "metadata": {},
     "output_type": "execute_result"
    }
   ],
   "source": [
    "from ampligraph.discovery import query_topn\n",
    "query_topn(modelTransE, top_n=5,\n",
    "            head='XL Secret Thief Rogue – #9 Legend (syoutotolo) – Knights of Hallow’s End', relation='has_card', tail=None,\n",
    "            ents_to_consider=None, rels_to_consider=None)"
   ]
  },
  {
   "cell_type": "code",
   "execution_count": 6,
   "metadata": {},
   "outputs": [
    {
     "name": "stderr",
     "output_type": "stream",
     "text": [
      "Average TransE Loss:   0.103971: 100%|██████████| 200/200 [08:52<00:00,  2.66s/epoch]\n"
     ]
    }
   ],
   "source": [
    "from ampligraph.latent_features import TransE\n",
    "modelTransE_all_data = TransE(batches_count=100, \n",
    "                seed=0, \n",
    "                epochs=200, \n",
    "                k=150, \n",
    "                eta=5,\n",
    "                optimizer='adam', \n",
    "                optimizer_params={'lr':1e-3},\n",
    "                loss='multiclass_nll', \n",
    "                regularizer='LP', \n",
    "                regularizer_params={'p':3, 'lambda':1e-5}, \n",
    "                verbose=True)\n",
    "\n",
    "modelTransE_all_data.fit(X, early_stopping = False)"
   ]
  },
  {
   "cell_type": "code",
   "execution_count": 7,
   "metadata": {},
   "outputs": [],
   "source": [
    "from ampligraph.utils import save_model\n",
    "example_name = 'recommend.pkl'\n",
    "save_model(modelTransE_all_data, model_name_path = example_name)"
   ]
  },
  {
   "cell_type": "code",
   "execution_count": 14,
   "metadata": {},
   "outputs": [],
   "source": [
    "from ampligraph.utils import restore_model\n",
    "restored_model = restore_model(model_name_path = example_name)"
   ]
  },
  {
   "cell_type": "code",
   "execution_count": 15,
   "metadata": {},
   "outputs": [
    {
     "data": {
      "text/plain": [
       "array([['XL Secret Thief Rogue – #9 Legend (syoutotolo) – Knights of Hallow’s End',\n",
       "        'has_card', 'Gone Fishin’'],\n",
       "       ['XL Secret Thief Rogue – #9 Legend (syoutotolo) – Knights of Hallow’s End',\n",
       "        'has_card', 'Sira’kess Cultist'],\n",
       "       ['XL Secret Thief Rogue – #9 Legend (syoutotolo) – Knights of Hallow’s End',\n",
       "        'has_card', 'Za’qul'],\n",
       "       ['XL Secret Thief Rogue – #9 Legend (syoutotolo) – Knights of Hallow’s End',\n",
       "        'has_card', 'Ara’lon'],\n",
       "       ['XL Secret Thief Rogue – #9 Legend (syoutotolo) – Knights of Hallow’s End',\n",
       "        'has_card', 'Reconnaissance']], dtype='<U92')"
      ]
     },
     "execution_count": 15,
     "metadata": {},
     "output_type": "execute_result"
    }
   ],
   "source": [
    "from ampligraph.discovery import query_topn\n",
    "query_topn(restored_model, top_n=5,\n",
    "            head='XL Secret Thief Rogue – #9 Legend (syoutotolo) – Knights of Hallow’s End', relation='has_card', tail=None,\n",
    "            ents_to_consider=None, rels_to_consider=None)[0]"
   ]
  }
 ],
 "metadata": {
  "kernelspec": {
   "display_name": "Python 3.7.15 ('py37')",
   "language": "python",
   "name": "python3"
  },
  "language_info": {
   "codemirror_mode": {
    "name": "ipython",
    "version": 3
   },
   "file_extension": ".py",
   "mimetype": "text/x-python",
   "name": "python",
   "nbconvert_exporter": "python",
   "pygments_lexer": "ipython3",
   "version": "3.7.15"
  },
  "orig_nbformat": 4,
  "vscode": {
   "interpreter": {
    "hash": "fff75c9ad26ce6802b064a23b9b4073c013879a518c7b8f5aa6fb01091a45225"
   }
  }
 },
 "nbformat": 4,
 "nbformat_minor": 2
}
